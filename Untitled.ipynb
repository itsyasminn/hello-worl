{
 "cells": [
  {
   "cell_type": "code",
   "execution_count": 4,
   "id": "30bf1abd-8d60-4dc6-ada1-cabbdad0b465",
   "metadata": {},
   "outputs": [
    {
     "name": "stdout",
     "output_type": "stream",
     "text": [
      "Collecting numpy\n",
      "  Downloading numpy-2.2.6-cp313-cp313-win_amd64.whl.metadata (60 kB)\n",
      "Downloading numpy-2.2.6-cp313-cp313-win_amd64.whl (12.6 MB)\n",
      "   ---------------------------------------- 0.0/12.6 MB ? eta -:--:--\n",
      "   ---------------------------------------- 0.0/12.6 MB ? eta -:--:--\n",
      "    --------------------------------------- 0.3/12.6 MB ? eta -:--:--\n",
      "   -- ------------------------------------- 0.8/12.6 MB 2.3 MB/s eta 0:00:06\n",
      "   ---- ----------------------------------- 1.6/12.6 MB 3.0 MB/s eta 0:00:04\n",
      "   ------- -------------------------------- 2.4/12.6 MB 3.3 MB/s eta 0:00:04\n",
      "   --------- ------------------------------ 3.1/12.6 MB 3.5 MB/s eta 0:00:03\n",
      "   ------------- -------------------------- 4.2/12.6 MB 3.6 MB/s eta 0:00:03\n",
      "   --------------- ------------------------ 5.0/12.6 MB 3.8 MB/s eta 0:00:03\n",
      "   ------------------- -------------------- 6.0/12.6 MB 3.9 MB/s eta 0:00:02\n",
      "   --------------------- ------------------ 6.8/12.6 MB 3.8 MB/s eta 0:00:02\n",
      "   ------------------------ --------------- 7.9/12.6 MB 3.9 MB/s eta 0:00:02\n",
      "   ---------------------------- ----------- 8.9/12.6 MB 4.1 MB/s eta 0:00:01\n",
      "   ------------------------------- -------- 10.0/12.6 MB 4.1 MB/s eta 0:00:01\n",
      "   ---------------------------------- ----- 11.0/12.6 MB 4.2 MB/s eta 0:00:01\n",
      "   ------------------------------------- -- 11.8/12.6 MB 4.2 MB/s eta 0:00:01\n",
      "   ---------------------------------------- 12.6/12.6 MB 4.1 MB/s eta 0:00:00\n",
      "Installing collected packages: numpy\n",
      "Successfully installed numpy-2.2.6\n"
     ]
    },
    {
     "name": "stderr",
     "output_type": "stream",
     "text": [
      "\n",
      "[notice] A new release of pip is available: 25.0.1 -> 25.1.1\n",
      "[notice] To update, run: python.exe -m pip install --upgrade pip\n"
     ]
    }
   ],
   "source": [
    "!pip install numpy"
   ]
  },
  {
   "cell_type": "code",
   "execution_count": 9,
   "id": "7c46e759-61ec-4179-8a5a-f4a0b41e2ba5",
   "metadata": {},
   "outputs": [
    {
     "name": "stderr",
     "output_type": "stream",
     "text": [
      "ERROR: Could not find a version that satisfies the requirement tensorflow (from versions: none)\n",
      "\n",
      "[notice] A new release of pip is available: 25.0.1 -> 25.1.1\n",
      "[notice] To update, run: python.exe -m pip install --upgrade pip\n",
      "ERROR: No matching distribution found for tensorflow\n"
     ]
    }
   ],
   "source": [
    "!pip install tensorflow\n"
   ]
  },
  {
   "cell_type": "code",
   "execution_count": 10,
   "id": "78fd26cb-317a-4112-a03f-bdf6cf5ad276",
   "metadata": {},
   "outputs": [
    {
     "ename": "SyntaxError",
     "evalue": "invalid syntax (990896278.py, line 1)",
     "output_type": "error",
     "traceback": [
      "  \u001b[36mCell\u001b[39m\u001b[36m \u001b[39m\u001b[32mIn[10]\u001b[39m\u001b[32m, line 1\u001b[39m\n\u001b[31m    \u001b[39m\u001b[31mconda create -n tf python=3.10\u001b[39m\n          ^\n\u001b[31mSyntaxError\u001b[39m\u001b[31m:\u001b[39m invalid syntax\n"
     ]
    }
   ],
   "source": [
    "conda create -n tf python=3.10\n",
    "conda activate tf\n",
    "conda install -c conda-forge tensorflow\n"
   ]
  },
  {
   "cell_type": "code",
   "execution_count": null,
   "id": "653affd5-fdd6-440e-b34e-142edaf651cd",
   "metadata": {},
   "outputs": [],
   "source": [
    "(x_train, y_train) (x_test, y_test) = keras.datasets.mnist.loaddata()"
   ]
  },
  {
   "cell_type": "code",
   "execution_count": null,
   "id": "f7186d39-3a02-4a8b-bf0e-72b8bb83a42b",
   "metadata": {},
   "outputs": [],
   "source": []
  }
 ],
 "metadata": {
  "kernelspec": {
   "display_name": "Python 3 (ipykernel)",
   "language": "python",
   "name": "python3"
  },
  "language_info": {
   "codemirror_mode": {
    "name": "ipython",
    "version": 3
   },
   "file_extension": ".py",
   "mimetype": "text/x-python",
   "name": "python",
   "nbconvert_exporter": "python",
   "pygments_lexer": "ipython3",
   "version": "3.13.3"
  }
 },
 "nbformat": 4,
 "nbformat_minor": 5
}
